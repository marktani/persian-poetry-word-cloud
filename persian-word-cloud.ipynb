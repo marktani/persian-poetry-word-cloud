{
  "cells": [
    {
      "attachments": {},
      "cell_type": "markdown",
      "metadata": {},
      "source": [
        "# Persian Poetry Word Cloud\n",
        "Generating a word cloud from Persian poetry\n",
        "\n",
        "Dependencies installation:\n",
        "\n",
        "```sh\n",
        "pip3 install python-bidi arabic_reshape\n",
        "```"
      ]
    },
    {
      "cell_type": "code",
      "execution_count": 2,
      "metadata": {
        "collapsed": false
      },
      "outputs": [],
      "source": [
        "import os\n",
        "import codecs\n",
        "from wordcloud import WordCloud\n",
        "import arabic_reshaper\n",
        "from bidi.algorithm import get_display\n",
        "\n",
        "root_directory = os.path.dirname(__file__) if \"__file__\" in locals() else os.getcwd()\n",
        "input_directory = os.path.join(root_directory, \"input\")\n",
        "output_directory = os.path.join(root_directory, \"output\")\n",
        "\n",
        "\n",
        "for filename in os.listdir(input_directory):\n",
        "    stem = os.path.splitext(filename)[0]\n",
        "    f = codecs.open(os.path.join(input_directory, filename), 'r', 'utf-8')\n",
        "    text = arabic_reshaper.reshape(f.read())\n",
        "    text = get_display(text)\n",
        "    wordcloud = WordCloud(font_path='./NotoNaskhArabic-Regular.ttf').generate(text)\n",
        "\n",
        "    wordcloud.to_file(os.path.join(output_directory, stem + \"_output.png\"))\n"
      ]
    }
  ],
  "metadata": {
    "kernelspec": {
      "display_name": "Python 3",
      "language": "python",
      "name": "python3"
    },
    "language_info": {
      "codemirror_mode": {
        "name": "ipython",
        "version": 3
      },
      "file_extension": ".py",
      "mimetype": "text/x-python",
      "name": "python",
      "nbconvert_exporter": "python",
      "pygments_lexer": "ipython3",
      "version": "3.9.6"
    }
  },
  "nbformat": 4,
  "nbformat_minor": 0
}
